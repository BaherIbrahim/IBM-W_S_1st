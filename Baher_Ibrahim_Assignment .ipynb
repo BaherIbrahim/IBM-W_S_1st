{
    "cells": [
        {
            "metadata": {},
            "cell_type": "markdown",
            "source": "# My Jupyter Notebook on IBM Watson Studio"
        },
        {
            "metadata": {},
            "cell_type": "markdown",
            "source": "**Baher Ibrahim** "
        },
        {
            "metadata": {},
            "cell_type": "markdown",
            "source": "Researcher"
        },
        {
            "metadata": {},
            "cell_type": "markdown",
            "source": "I am interested in data science because it will help me to understand new insights about my research data. "
        },
        {
            "metadata": {},
            "cell_type": "markdown",
            "source": "### A simple code to convert the temperature from Celsius to Fahrenheit"
        },
        {
            "metadata": {},
            "cell_type": "code",
            "source": "x = input ('Please enter the temperature in celesius: ')\ntry:\n    y = float (x)\n    z = ((y* (9/5)) + 32)\n    print ('The temperature in Fahrenheit is', z)\nexcept:\n    x == -1\n    print ('Sorry! This is not a number')",
            "execution_count": 4,
            "outputs": [
                {
                    "output_type": "stream",
                    "name": "stdout",
                    "text": "Please enter the temperature in celesius: 9.333333\nThe temperature in Fahrenheit is 48.799999400000004\n"
                }
            ]
        },
        {
            "metadata": {},
            "cell_type": "markdown",
            "source": "|Condition        |Temperature_Celesius   |Temperature_Fahrenheit   | \n|:----------------|:---------------------:|:-----------------------:|\n|Boiling water    |100                    |212                      |\n|Normal human body|37                     |98.6                     |\n|Freezing water   |0                      |32                       |"
        },
        {
            "metadata": {},
            "cell_type": "markdown",
            "source": "You should always think that there is no ~~a perfect code~~, rather there is always a code to improve"
        },
        {
            "metadata": {},
            "cell_type": "markdown",
            "source": "[This is my lab website](http://www.llanolab.com/index.html)"
        }
    ],
    "metadata": {
        "kernelspec": {
            "name": "python3",
            "display_name": "Python 3.6",
            "language": "python"
        },
        "language_info": {
            "name": "python",
            "version": "3.6.9",
            "mimetype": "text/x-python",
            "codemirror_mode": {
                "name": "ipython",
                "version": 3
            },
            "pygments_lexer": "ipython3",
            "nbconvert_exporter": "python",
            "file_extension": ".py"
        }
    },
    "nbformat": 4,
    "nbformat_minor": 1
}