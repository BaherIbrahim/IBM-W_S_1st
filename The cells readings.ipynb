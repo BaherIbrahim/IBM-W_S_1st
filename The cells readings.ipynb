{
    "cells": [
        {
            "cell_type": "markdown",
            "metadata": {},
            "source": "### The first project "
        },
        {
            "cell_type": "code",
            "execution_count": 2,
            "metadata": {},
            "outputs": [
                {
                    "data": {
                        "text/html": "<div>\n<style scoped>\n    .dataframe tbody tr th:only-of-type {\n        vertical-align: middle;\n    }\n\n    .dataframe tbody tr th {\n        vertical-align: top;\n    }\n\n    .dataframe thead th {\n        text-align: right;\n    }\n</style>\n<table border=\"1\" class=\"dataframe\">\n  <thead>\n    <tr style=\"text-align: right;\">\n      <th></th>\n      <th>Frames</th>\n      <th>Time</th>\n      <th>Stimulation #</th>\n      <th>Cell1</th>\n      <th>Cell2</th>\n      <th>Cell3</th>\n      <th>Cell4</th>\n      <th>Cell5</th>\n      <th>Cell6</th>\n      <th>Cell7</th>\n      <th>...</th>\n      <th>Cell50</th>\n      <th>Cell51</th>\n      <th>Cell52</th>\n      <th>Cell53</th>\n      <th>Cell54</th>\n      <th>Cell55</th>\n      <th>Cell56</th>\n      <th>Cell57</th>\n      <th>Cell58</th>\n      <th>Cell59</th>\n    </tr>\n  </thead>\n  <tbody>\n    <tr>\n      <th>0</th>\n      <td>1</td>\n      <td>0.103093</td>\n      <td>NaN</td>\n      <td>162.422</td>\n      <td>233.986</td>\n      <td>564.933</td>\n      <td>435.811</td>\n      <td>907.457</td>\n      <td>298.071</td>\n      <td>357.429</td>\n      <td>...</td>\n      <td>121.729</td>\n      <td>167.214</td>\n      <td>140.217</td>\n      <td>83.296</td>\n      <td>383.952</td>\n      <td>153.156</td>\n      <td>205.250</td>\n      <td>366.117</td>\n      <td>104.250</td>\n      <td>155.472</td>\n    </tr>\n    <tr>\n      <th>1</th>\n      <td>2</td>\n      <td>0.206186</td>\n      <td>NaN</td>\n      <td>160.500</td>\n      <td>235.000</td>\n      <td>564.450</td>\n      <td>435.405</td>\n      <td>903.886</td>\n      <td>297.500</td>\n      <td>357.086</td>\n      <td>...</td>\n      <td>120.914</td>\n      <td>167.729</td>\n      <td>139.296</td>\n      <td>84.452</td>\n      <td>382.885</td>\n      <td>155.219</td>\n      <td>204.300</td>\n      <td>366.717</td>\n      <td>106.012</td>\n      <td>150.931</td>\n    </tr>\n    <tr>\n      <th>2</th>\n      <td>3</td>\n      <td>0.309278</td>\n      <td>NaN</td>\n      <td>159.797</td>\n      <td>235.171</td>\n      <td>567.933</td>\n      <td>432.865</td>\n      <td>903.700</td>\n      <td>296.043</td>\n      <td>356.914</td>\n      <td>...</td>\n      <td>121.414</td>\n      <td>166.586</td>\n      <td>137.983</td>\n      <td>84.139</td>\n      <td>381.692</td>\n      <td>156.516</td>\n      <td>205.233</td>\n      <td>367.050</td>\n      <td>104.400</td>\n      <td>151.667</td>\n    </tr>\n    <tr>\n      <th>3</th>\n      <td>4</td>\n      <td>0.412371</td>\n      <td>NaN</td>\n      <td>159.883</td>\n      <td>233.157</td>\n      <td>569.900</td>\n      <td>431.973</td>\n      <td>902.900</td>\n      <td>296.529</td>\n      <td>355.929</td>\n      <td>...</td>\n      <td>121.486</td>\n      <td>164.471</td>\n      <td>139.713</td>\n      <td>84.357</td>\n      <td>382.394</td>\n      <td>156.281</td>\n      <td>206.550</td>\n      <td>366.200</td>\n      <td>104.662</td>\n      <td>151.389</td>\n    </tr>\n    <tr>\n      <th>4</th>\n      <td>5</td>\n      <td>0.515464</td>\n      <td>NaN</td>\n      <td>161.742</td>\n      <td>233.157</td>\n      <td>571.767</td>\n      <td>432.514</td>\n      <td>902.286</td>\n      <td>299.329</td>\n      <td>349.014</td>\n      <td>...</td>\n      <td>122.414</td>\n      <td>163.443</td>\n      <td>137.261</td>\n      <td>83.478</td>\n      <td>385.115</td>\n      <td>160.203</td>\n      <td>205.317</td>\n      <td>366.167</td>\n      <td>104.137</td>\n      <td>146.944</td>\n    </tr>\n  </tbody>\n</table>\n<p>5 rows \u00d7 62 columns</p>\n</div>",
                        "text/plain": "   Frames      Time Stimulation #    Cell1    Cell2    Cell3    Cell4  \\\n0       1  0.103093           NaN  162.422  233.986  564.933  435.811   \n1       2  0.206186           NaN  160.500  235.000  564.450  435.405   \n2       3  0.309278           NaN  159.797  235.171  567.933  432.865   \n3       4  0.412371           NaN  159.883  233.157  569.900  431.973   \n4       5  0.515464           NaN  161.742  233.157  571.767  432.514   \n\n     Cell5    Cell6    Cell7  ...   Cell50   Cell51   Cell52  Cell53   Cell54  \\\n0  907.457  298.071  357.429  ...  121.729  167.214  140.217  83.296  383.952   \n1  903.886  297.500  357.086  ...  120.914  167.729  139.296  84.452  382.885   \n2  903.700  296.043  356.914  ...  121.414  166.586  137.983  84.139  381.692   \n3  902.900  296.529  355.929  ...  121.486  164.471  139.713  84.357  382.394   \n4  902.286  299.329  349.014  ...  122.414  163.443  137.261  83.478  385.115   \n\n    Cell55   Cell56   Cell57   Cell58   Cell59  \n0  153.156  205.250  366.117  104.250  155.472  \n1  155.219  204.300  366.717  106.012  150.931  \n2  156.516  205.233  367.050  104.400  151.667  \n3  156.281  206.550  366.200  104.662  151.389  \n4  160.203  205.317  366.167  104.137  146.944  \n\n[5 rows x 62 columns]"
                    },
                    "execution_count": 2,
                    "metadata": {},
                    "output_type": "execute_result"
                }
            ],
            "source": "# The code was removed by Watson Studio for sharing."
        },
        {
            "cell_type": "code",
            "execution_count": null,
            "metadata": {},
            "outputs": [],
            "source": ""
        }
    ],
    "metadata": {
        "kernelspec": {
            "display_name": "Python 3.6",
            "language": "python",
            "name": "python3"
        },
        "language_info": {
            "codemirror_mode": {
                "name": "ipython",
                "version": 3
            },
            "file_extension": ".py",
            "mimetype": "text/x-python",
            "name": "python",
            "nbconvert_exporter": "python",
            "pygments_lexer": "ipython3",
            "version": "3.6.9"
        }
    },
    "nbformat": 4,
    "nbformat_minor": 1
}